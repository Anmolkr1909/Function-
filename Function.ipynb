{
  "nbformat": 4,
  "nbformat_minor": 0,
  "metadata": {
    "colab": {
      "provenance": [],
      "authorship_tag": "ABX9TyMvFjnesASgwdkBqDZ3Oc9W",
      "include_colab_link": true
    },
    "kernelspec": {
      "name": "python3",
      "display_name": "Python 3"
    },
    "language_info": {
      "name": "python"
    }
  },
  "cells": [
    {
      "cell_type": "markdown",
      "metadata": {
        "id": "view-in-github",
        "colab_type": "text"
      },
      "source": [
        "<a href=\"https://colab.research.google.com/github/Anmolkr1909/Function-/blob/main/Function.ipynb\" target=\"_parent\"><img src=\"https://colab.research.google.com/assets/colab-badge.svg\" alt=\"Open In Colab\"/></a>"
      ]
    },
    {
      "cell_type": "markdown",
      "source": [
        "# **Function**\n",
        "\n",
        "---\n",
        "\n",
        "\n",
        "\n",
        "\n",
        "---\n",
        "\n",
        "\n",
        "\n",
        "\n",
        "\n",
        "\n",
        "\n"
      ],
      "metadata": {
        "id": "T1n4oLn7OzSg"
      }
    },
    {
      "cell_type": "markdown",
      "source": [
        "63) BMI Calculator App\n",
        "*  Calculate BMI using formula and tell health status"
      ],
      "metadata": {
        "id": "TlpNtszqOzRX"
      }
    },
    {
      "cell_type": "code",
      "execution_count": 1,
      "metadata": {
        "colab": {
          "base_uri": "https://localhost:8080/"
        },
        "id": "MDWFJsnQOr0B",
        "outputId": "872bdf08-3543-4022-e1f8-baa5e49242bf"
      },
      "outputs": [
        {
          "output_type": "stream",
          "name": "stdout",
          "text": [
            "Your BMI is: 22.49\n",
            "Health Status: Normal\n"
          ]
        }
      ],
      "source": [
        "def calculate_bmi(weight, height):\n",
        "    bmi = weight / (height ** 2)\n",
        "    return bmi\n",
        "\n",
        "\n",
        "def bmi_status(bmi):\n",
        "    if bmi < 18.5:\n",
        "        return \"Underweight\"\n",
        "    elif bmi < 25:\n",
        "        return \"Normal\"\n",
        "    elif bmi < 30:\n",
        "        return \"Overweight\"\n",
        "    else:\n",
        "        return \"Obese\"\n",
        "\n",
        "# Anmol\n",
        "bmi = calculate_bmi(65, 1.70)\n",
        "status = bmi_status(bmi)\n",
        "\n",
        "print(\"Your BMI is:\", round(bmi, 2))\n",
        "print(\"Health Status:\", status)\n"
      ]
    },
    {
      "cell_type": "markdown",
      "source": [
        "\n",
        "\n",
        "---\n",
        "\n"
      ],
      "metadata": {
        "id": "6Ywf8aM9SegR"
      }
    },
    {
      "cell_type": "markdown",
      "source": [
        "64)  Bill Splitter App\n",
        "*   Split total bill among friends with tax and tip"
      ],
      "metadata": {
        "id": "CP-nzHPwSs9j"
      }
    },
    {
      "cell_type": "code",
      "source": [
        "def calculate_total(bill_amount, tax=0.05, tip=0.1):\n",
        "    total = bill_amount + (bill_amount * tax) + (bill_amount * tip)\n",
        "    return total\n",
        "\n",
        "def split_bill(total, people):\n",
        "    return total / people\n",
        "\n",
        "# Example\n",
        "total_bill = calculate_total(1000)\n",
        "share = split_bill(total_bill, 4)\n",
        "\n",
        "print(\"Total Bill with Tax and Tip:\", round(total_bill, 2))\n",
        "print(\"Each Person Pays:\", round(share, 2))\n"
      ],
      "metadata": {
        "colab": {
          "base_uri": "https://localhost:8080/"
        },
        "id": "FeVSXxhPSuTy",
        "outputId": "dbaed6ed-7a29-48f7-d2b3-fb8e6e7eeca0"
      },
      "execution_count": 2,
      "outputs": [
        {
          "output_type": "stream",
          "name": "stdout",
          "text": [
            "Total Bill with Tax and Tip: 1150.0\n",
            "Each Person Pays: 287.5\n"
          ]
        }
      ]
    },
    {
      "cell_type": "markdown",
      "source": [
        "\n",
        "---\n",
        "\n",
        "\n",
        "\n"
      ],
      "metadata": {
        "id": "g1aemqlhTU8U"
      }
    },
    {
      "cell_type": "markdown",
      "source": [
        "65)  Student Grade Evaluator\n",
        "*  Take marks as input and return grade."
      ],
      "metadata": {
        "id": "8zllRENtTd_p"
      }
    },
    {
      "cell_type": "code",
      "source": [
        "def get_grade(marks):\n",
        "    if marks >= 90:\n",
        "        return \"A+\"\n",
        "    elif marks >= 75:\n",
        "        return \"A\"\n",
        "    elif marks >= 60:\n",
        "        return \"B\"\n",
        "    elif marks >= 50:\n",
        "        return \"C\"\n",
        "    else:\n",
        "        return \"Fail\"\n",
        "\n",
        "# Example\n",
        "subject_marks = [92, 84, 68, 55, 40]\n",
        "for idx, mark in enumerate(subject_marks, start=1):\n",
        "    print(f\"Subject {idx} → Marks: {mark} → Grade: {get_grade(mark)}\")\n"
      ],
      "metadata": {
        "colab": {
          "base_uri": "https://localhost:8080/"
        },
        "id": "CdZWkJVTTrnm",
        "outputId": "d67220d3-9fd0-4705-aa41-153c5b71465d"
      },
      "execution_count": 3,
      "outputs": [
        {
          "output_type": "stream",
          "name": "stdout",
          "text": [
            "Subject 1 → Marks: 92 → Grade: A+\n",
            "Subject 2 → Marks: 84 → Grade: A\n",
            "Subject 3 → Marks: 68 → Grade: B\n",
            "Subject 4 → Marks: 55 → Grade: C\n",
            "Subject 5 → Marks: 40 → Grade: Fail\n"
          ]
        }
      ]
    },
    {
      "cell_type": "markdown",
      "source": [
        "\n",
        "\n",
        "---\n",
        "\n"
      ],
      "metadata": {
        "id": "HHlIT1pDUBSX"
      }
    },
    {
      "cell_type": "markdown",
      "source": [
        "66)  Simple Interest Calculator\n",
        "*  Calculate simple interest and total amount.\n"
      ],
      "metadata": {
        "id": "nsMkZ9sMUCIQ"
      }
    },
    {
      "cell_type": "code",
      "source": [
        "def simple_interest(p, r, t):\n",
        "    interest = (p * r * t) / 100\n",
        "    total = p + interest\n",
        "    return interest, total\n",
        "\n",
        "# Example\n",
        "i, amount = simple_interest(10000, 5, 2)\n",
        "\n",
        "print(\"Interest Earned:\", i)\n",
        "print(\"Total Amount:\", amount)\n"
      ],
      "metadata": {
        "colab": {
          "base_uri": "https://localhost:8080/"
        },
        "id": "0jhY_p6eULrj",
        "outputId": "b44acc56-6b1c-44be-9eeb-51c7d6f0e9bb"
      },
      "execution_count": 4,
      "outputs": [
        {
          "output_type": "stream",
          "name": "stdout",
          "text": [
            "Interest Earned: 1000.0\n",
            "Total Amount: 11000.0\n"
          ]
        }
      ]
    },
    {
      "cell_type": "markdown",
      "source": [
        "\n",
        "\n",
        "---\n",
        "\n"
      ],
      "metadata": {
        "id": "hw0TW6W9UZDE"
      }
    },
    {
      "cell_type": "markdown",
      "source": [
        "67)  Password Strength Checker\n",
        "*  Check if password is strong or weak\n"
      ],
      "metadata": {
        "id": "1i_JnuiyUWlA"
      }
    },
    {
      "cell_type": "code",
      "source": [
        "def is_strong(password):\n",
        "    if len(password) < 8:\n",
        "        return \"Weak: Too short\"\n",
        "    elif not any(c.isdigit() for c in password):\n",
        "        return \"Weak: No number\"\n",
        "    elif not any(c.isupper() for c in password):\n",
        "        return \"Weak: No uppercase letter\"\n",
        "    elif not any(c in \"!@#$%^&*()\" for c in password):\n",
        "        return \"Weak: No special symbol\"\n",
        "    else:\n",
        "        return \"Strong password 💪\"\n",
        "\n",
        "# Example\n",
        "print(is_strong(\"pass123\"))        # Too short\n",
        "print(is_strong(\"Password123\"))    # No symbol\n",
        "print(is_strong(\"Pass@123\"))       # Strong\n"
      ],
      "metadata": {
        "colab": {
          "base_uri": "https://localhost:8080/"
        },
        "id": "JJHmuxyiUWQk",
        "outputId": "eda700b9-85d9-4d26-b2f5-31b44c946161"
      },
      "execution_count": 5,
      "outputs": [
        {
          "output_type": "stream",
          "name": "stdout",
          "text": [
            "Weak: Too short\n",
            "Weak: No special symbol\n",
            "Strong password 💪\n"
          ]
        }
      ]
    }
  ]
}